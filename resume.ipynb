{
 "cells": [
  {
   "cell_type": "code",
   "execution_count": 10,
   "id": "0cbda4eb",
   "metadata": {},
   "outputs": [],
   "source": [
    "try:\n",
    "    import spacy\n",
    "    import json\n",
    "except Exception as e:\n",
    "    print(e)\n",
    "    \n",
    "\n",
    "class EntityGenerator(object):\n",
    "    \n",
    "    _slots__ = ['text']\n",
    "    \n",
    "    def __init__(self, text=None):\n",
    "        self.text = text\n",
    "        \n",
    "    def get(self):\n",
    "        \"\"\"\n",
    "        Return a Json\n",
    "        \"\"\"\n",
    "        nlp = spacy.load(\"en_core_web_sm\")\n",
    "        doc = nlp(self.text)\n",
    "        text = [ent.text for ent in doc.ents]\n",
    "        entity = [ent.label_ for ent in doc.ents]\n",
    "    \n",
    "        from collections import Counter\n",
    "        import json\n",
    "\n",
    "        data = Counter(zip(entity))\n",
    "        unique_entity = list(data.keys())\n",
    "        unique_entity = [x[0] for x in unique_entity]\n",
    "\n",
    "        d = {}\n",
    "        for val in unique_entity:\n",
    "            d[val] = []\n",
    "\n",
    "        for key,val in dict(zip(text, entity)).items():\n",
    "            if val in unique_entity:\n",
    "                d[val].append(key)\n",
    "        return d"
   ]
  },
  {
   "cell_type": "code",
   "execution_count": 12,
   "id": "d88c3c3f",
   "metadata": {},
   "outputs": [],
   "source": [
    "try:\n",
    "    import PyPDF2\n",
    "    import requests\n",
    "    import json\n",
    "except Exception:\n",
    "    pass\n",
    "\n",
    "class Resume(object):\n",
    "    def __init__(self, filename=None):\n",
    "        self.filename = filename\n",
    "        \n",
    "    def get(self):\n",
    "        \"\"\"\n",
    "        \n",
    "        \"\"\"\n",
    "        fFileObj = open(self.filename, 'rb')\n",
    "        pdfReader = PyPDF2.PdfFileReader(fFileObj)\n",
    "        pageObj = pdfReader.getPage(0)\n",
    "        print(\"Total Pages : {} \".format(pdfReader.numPages))\n",
    "\n",
    "        resume = pageObj.extractText()\n",
    "        return resume"
   ]
  },
  {
   "cell_type": "code",
   "execution_count": 13,
   "id": "acc6e21d",
   "metadata": {},
   "outputs": [],
   "source": [
    "#AbhijeetSrivastava[2_1]"
   ]
  },
  {
   "cell_type": "code",
   "execution_count": 31,
   "id": "17e642a6",
   "metadata": {},
   "outputs": [
    {
     "name": "stdout",
     "output_type": "stream",
     "text": [
      "Total Pages : 1 \n"
     ]
    }
   ],
   "source": [
    "resume = Resume(filename=\"AakratiGawande[2_0].pdf\")\n",
    "response_news = resume.get()\n",
    "nlp = spacy.load(\"en_core_web_sm\")\n",
    "doc = nlp(response_news)\n"
   ]
  },
  {
   "cell_type": "code",
   "execution_count": 48,
   "id": "4542eaab",
   "metadata": {},
   "outputs": [],
   "source": [
    "import requests\n",
    "url1='AbhijeetSrivastava[2_1].pdf'\n",
    "\n",
    "url = \"https://api.apilayer.com/resume_parser/url?url={url1}\"\n",
    "\n",
    "payload = {}\n",
    "headers= {\n",
    "  \"apikey\": \"pW9UgVFpKwDTdJfdCHQJZLkbp7fH71yd\"\n",
    "}\n",
    "\n",
    "response = requests.request(\"GET\", url, headers=headers, data = payload)\n",
    "\n",
    "status_code = response.status_code\n",
    "result = response.text"
   ]
  },
  {
   "cell_type": "code",
   "execution_count": 49,
   "id": "5bcf997c",
   "metadata": {},
   "outputs": [
    {
     "data": {
      "text/plain": [
       "'{\"message\":\"You have exceeded your daily\\\\/monthly API rate limit. Please review and upgrade your subscription plan at https:\\\\/\\\\/promptapi.com\\\\/subscriptions to continue.\"}'"
      ]
     },
     "execution_count": 49,
     "metadata": {},
     "output_type": "execute_result"
    }
   ],
   "source": [
    "result"
   ]
  },
  {
   "cell_type": "code",
   "execution_count": 21,
   "id": "b7f5cbcd",
   "metadata": {},
   "outputs": [
    {
     "data": {
      "text/plain": [
       "{'ORG': ['Embedded Systems',\n",
       "  'Inventum \\nTechnologies',\n",
       "  'Emblogic Compentency & Research Labs',\n",
       "  'C &',\n",
       "  'Synchronization Mechanisms',\n",
       "  'Bash',\n",
       "  'LFS',\n",
       "  'Inter Process Communication',\n",
       "  'Socket Programming',\n",
       "  'AF_UNIX & AF_INET Domains',\n",
       "  'Static Code Analysis',\n",
       "  'SonarQube',\n",
       "  'Linux Administration',\n",
       "  'Shell Scripting',\n",
       "  'Network Programming',\n",
       "  'Sockets & \\nIPC',\n",
       "  'Inventum Technologies Pvt. Ltd\\n Embedded Software Engineer',\n",
       "  'Operating System'],\n",
       " 'DATE': ['2 year \\n1 month', '1 year', 'May 2019 to present(2 years'],\n",
       " 'NORP': ['Intern'],\n",
       " 'LOC': ['Makefile'],\n",
       " 'PERSON': ['Linux kernel', 'Message Queues', 'Shared Memory'],\n",
       " 'GPE': ['klish.']}"
      ]
     },
     "execution_count": 21,
     "metadata": {},
     "output_type": "execute_result"
    }
   ],
   "source": [
    "helper = EntityGenerator(text=response_news)\n",
    "response = helper.get()\n",
    "#print(json.dumps(response , indent=3))\n",
    "response"
   ]
  },
  {
   "cell_type": "code",
   "execution_count": null,
   "id": "19d02508",
   "metadata": {},
   "outputs": [],
   "source": []
  }
 ],
 "metadata": {
  "kernelspec": {
   "display_name": "Python 3 (ipykernel)",
   "language": "python",
   "name": "python3"
  },
  "language_info": {
   "codemirror_mode": {
    "name": "ipython",
    "version": 3
   },
   "file_extension": ".py",
   "mimetype": "text/x-python",
   "name": "python",
   "nbconvert_exporter": "python",
   "pygments_lexer": "ipython3",
   "version": "3.9.12"
  }
 },
 "nbformat": 4,
 "nbformat_minor": 5
}
